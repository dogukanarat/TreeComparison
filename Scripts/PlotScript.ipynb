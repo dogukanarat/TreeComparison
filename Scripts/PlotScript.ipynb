{
 "cells": [
  {
   "cell_type": "code",
   "execution_count": 13,
   "metadata": {},
   "outputs": [
    {
     "name": "stderr",
     "output_type": "stream",
     "text": [
      "Fontconfig warning: ignoring UTF-8: not a valid region tag\n"
     ]
    }
   ],
   "source": [
    "import numpy as np\n",
    "import matplotlib.pyplot as plt\n",
    "from matplotlib import colors\n",
    "from matplotlib.ticker import PercentFormatter"
   ]
  },
  {
   "cell_type": "code",
   "execution_count": 14,
   "metadata": {},
   "outputs": [
    {
     "name": "stdout",
     "output_type": "stream",
     "text": [
      "[44  3 12 10  6  3 25 40 38  5 21 14 32 37  7 10 33 39 31 21 21 23  2 11\n",
      " 19 51 43  7  2 21 36 34 41 23 36 22  5 44  9 44 41 52 50 34 38 42 10 51\n",
      " 11 31  9 52 36 17 31 20 28 48 24]\n"
     ]
    }
   ],
   "source": [
    "# read the input1.txt file\n",
    "input1 = np.loadtxt('../input1.txt', dtype = int)\n",
    "\n",
    "print(input1)"
   ]
  },
  {
   "cell_type": "code",
   "execution_count": 15,
   "metadata": {},
   "outputs": [
    {
     "name": "stdout",
     "output_type": "stream",
     "text": [
      "[ 8 47 15 60 54 17 56 49 12 69  2 63 61 30 68 44 48  3 74  5 48 48 89 45\n",
      " 33 91 81 44 94 89 22 18 14 62 12 18 49 91 59 13 64 96 95  2 31  8 48 23\n",
      " 85 38 58 77 14  9 75 43 31 35 26 83 54 42 84  1 49 91 42 46 65 88 84 49\n",
      " 44 47 18 26 50 22 17 87  4 86 42 78]\n"
     ]
    }
   ],
   "source": [
    "# read the input2.txt file\n",
    "input2 = np.loadtxt('../input2.txt', dtype = int)\n",
    "\n",
    "print(input2)"
   ]
  },
  {
   "cell_type": "code",
   "execution_count": 29,
   "metadata": {},
   "outputs": [
    {
     "data": {
      "image/png": "[encoded data removed]",
      "text/plain": [
       "<Figure size 720x360 with 2 Axes>"
      ]
     },
     "metadata": {
      "needs_background": "light"
     },
     "output_type": "display_data"
    }
   ],
   "source": [
    "# plot the histogram of input1 and input2\n",
    "\n",
    "fig, axs = plt.subplots(1, 2, sharey=True, tight_layout=True)\n",
    "\n",
    "fig.set_figwidth(10)\n",
    "fig.set_figheight(5)\n",
    "\n",
    "array_size_1 = len(input1)\n",
    "array_size_2 = len(input2)\n",
    "\n",
    "# We can set the number of bins with the *bins* keyword argument.\n",
    "N, bins, patches = axs[0].hist(input1, bins=int(array_size_1/10))\n",
    "\n",
    "axs[0].set_xlabel('Value')\n",
    "axs[0].set_ylabel('Key')\n",
    "axs[0].set_title('Histogram of input set 1')\n",
    "\n",
    "# We'll color code by height, but you could use any scalar\n",
    "fracs = N / N.max()\n",
    "\n",
    "# we need to normalize the data to 0..1 for the full range of the colormap\n",
    "norm = colors.Normalize(fracs.min(), fracs.max())\n",
    "\n",
    "# Now, we'll loop through our objects and set the color of each accordingly\n",
    "for thisfrac, thispatch in zip(fracs, patches):\n",
    "    color = plt.cm.viridis(norm(thisfrac))\n",
    "    thispatch.set_facecolor(color)\n",
    "\n",
    "N, bins, patches = axs[1].hist(input2, bins=int(array_size_2/10))\n",
    "\n",
    "axs[1].set_xlabel('Value')\n",
    "axs[1].set_ylabel('Key')\n",
    "axs[1].set_title('Histogram of input set 2')\n",
    "\n",
    "# We'll color code by height, but you could use any scalar\n",
    "fracs = N / N.max()\n",
    "\n",
    "# we need to normalize the data to 0..1 for the full range of the colormap\n",
    "norm = colors.Normalize(fracs.min(), fracs.max())\n",
    "\n",
    "# Now, we'll loop through our objects and set the color of each accordingly\n",
    "for thisfrac, thispatch in zip(fracs, patches):\n",
    "    color = plt.cm.viridis(norm(thisfrac))\n",
    "    thispatch.set_facecolor(color)\n",
    "\n",
    "plt.show()"
   ]
  },
  {
   "cell_type": "code",
   "execution_count": 52,
   "metadata": {},
   "outputs": [
    {
     "data": {
      "image/png": "[encoded data removed]",
      "text/plain": [
       "<Figure size 720x360 with 1 Axes>"
      ]
     },
     "metadata": {
      "needs_background": "light"
     },
     "output_type": "display_data"
    }
   ],
   "source": [
    "costX = np.array([1, 2])\n",
    "costOfInput1 = np.array([229, 387])\n",
    "costOfInput2 = np.array([789, 885])\n",
    "\n",
    "# plot the line graph of costOfInput1 and costOfInput2 on the same graph\n",
    "\n",
    "fig = plt.figure()\n",
    "\n",
    "plt.grid(True)\n",
    "\n",
    "fig.set_figwidth(10)\n",
    "fig.set_figheight(5)\n",
    "\n",
    "plt.xlabel('Input Sets')\n",
    "plt.ylabel('Total Cost')\n",
    "plt.title('Cost of algorithms on input sets')\n",
    "\n",
    "plt.xticks(np.arange(2), [\"Input Set 1\", \"Input Set 2\"])\n",
    "\n",
    "plt.plot(costOfInput1, '-', label='AVL Tree')\n",
    "plt.plot(costOfInput2, '-', label='Splay Tree')\n",
    "\n",
    "plt.legend()\n",
    "\n",
    "plt.show()"
   ]
  },
  {
   "cell_type": "code",
   "execution_count": null,
   "metadata": {},
   "outputs": [],
   "source": []
  }
 ],
 "metadata": {
  "kernelspec": {
   "display_name": "base",
   "language": "python",
   "name": "python3"
  },
  "language_info": {
   "codemirror_mode": {
    "name": "ipython",
    "version": 3
   },
   "file_extension": ".py",
   "mimetype": "text/x-python",
   "name": "python",
   "nbconvert_exporter": "python",
   "pygments_lexer": "ipython3",
   "version": "3.9.12"
  },
  "orig_nbformat": 4,
  "vscode": {
   "interpreter": {
    "hash": "38cca0c38332a56087b24af0bc80247f4fced29cb4f7f437d91dc159adec9c4e"
   }
  }
 },
 "nbformat": 4,
 "nbformat_minor": 2
}
